{
 "cells": [
  {
   "cell_type": "code",
   "execution_count": 1,
   "metadata": {},
   "outputs": [],
   "source": [
    "import numpy as np\n",
    "import matplotlib.pyplot as plt\n",
    "import imageio \n",
    "from PIL import Image\n",
    "import time"
   ]
  },
  {
   "cell_type": "code",
   "execution_count": 13,
   "metadata": {},
   "outputs": [],
   "source": [
    "image=imageio.imread('4.png')[359:471,359:471]\n",
    "image1=Image.fromarray(image)\n",
    "image1=image1.resize((50,50),resample=0)\n",
    "image3=np.array(image1)\n",
    "\n",
    "for i in range(50):\n",
    "    for j in range(50):\n",
    "        if image3[i,j]>50:\n",
    "            image3[i,j]=1\n",
    "        else:\n",
    "            image3[i,j]=0"
   ]
  },
  {
   "cell_type": "code",
   "execution_count": 15,
   "metadata": {},
   "outputs": [
    {
     "data": {
      "image/png": "[encoded data removed]",
      "text/plain": [
       "<Figure size 432x288 with 2 Axes>"
      ]
     },
     "metadata": {
      "needs_background": "light"
     },
     "output_type": "display_data"
    }
   ],
   "source": [
    "plt.imshow(image3)\n",
    "plt.colorbar()\n",
    "plt.show()"
   ]
  },
  {
   "cell_type": "code",
   "execution_count": 17,
   "metadata": {},
   "outputs": [],
   "source": [
    "lamda=630e-9\n",
    "halflamda=630e-9/2\n",
    "distance=1e-5"
   ]
  },
  {
   "cell_type": "code",
   "execution_count": 9,
   "metadata": {},
   "outputs": [
    {
     "name": "stdout",
     "output_type": "stream",
     "text": [
      "56.20002746582031\n"
     ]
    }
   ],
   "source": [
    "#time estimate\n",
    "output=np.zeros((50,50))*1j\n",
    "time0=time.time()\n",
    "for i1 in range(50):\n",
    "    for j1 in range(50):\n",
    "        for i2 in range(1):\n",
    "            for j2 in range(1):\n",
    "                #prop=np.sqrt((i1-i2)**2+(j1-j2)**2)*halflamda\n",
    "                #output[i2,j2]=image3[i1,j1]*np.exp(-1j*2*np.pi*prop/lamda)\n",
    "                prop=np.sqrt((i1-i2)**2+(j1-j2)**2)\n",
    "                output[i2,j2]=image3[i1,j1]*np.exp(-1j*2*np.pi*prop/2)\n",
    "                \n",
    "time1=(time.time()-time0)*50*50\n",
    "print(time1)"
   ]
  },
  {
   "cell_type": "code",
   "execution_count": 22,
   "metadata": {},
   "outputs": [
    {
     "data": {
      "image/png": "[encoded data removed]",
      "text/plain": [
       "<Figure size 432x288 with 2 Axes>"
      ]
     },
     "metadata": {
      "needs_background": "light"
     },
     "output_type": "display_data"
    },
    {
     "name": "stdout",
     "output_type": "stream",
     "text": [
      "0.2453756332397461\n"
     ]
    }
   ],
   "source": [
    "import threading\n",
    "\n",
    "time0=time.time()\n",
    "\n",
    "def func(x,y):\n",
    "    for i1 in range(50):\n",
    "        for j1 in range(50):\n",
    "            global image3\n",
    "            global output\n",
    "            distance=1e-5\n",
    "            #prop=np.sqrt((i1-i2)**2+(j1-j2)**2)*halflamda\n",
    "            #output[i2,j2]+=image3[i1,j1]*np.exp(-1j*2*np.pi*prop/lamda)\n",
    "            prop=np.sqrt((i1-x)**2+(j1-y)**2+distance**2)\n",
    "            output[x,y]+=image3[i1,j1]*np.exp(-1j*2*np.pi*prop/2)\n",
    "    return output\n",
    "\n",
    "output=np.zeros((50,50))*1j\n",
    "threads=[]\n",
    "for i in range(50):\n",
    "    for j in range(50):\n",
    "        t=threading.Thread(target=func, args=(i,j))\n",
    "        threads.append(t)\n",
    "        \n",
    "t.start()\n",
    "t.join()\n",
    "\n",
    "plt.imshow(np.abs(output))\n",
    "plt.colorbar()\n",
    "plt.show()\n",
    "                \n",
    "time1=(time.time()-time0)\n",
    "print(time1)"
   ]
  },
  {
   "cell_type": "code",
   "execution_count": 6,
   "metadata": {},
   "outputs": [
    {
     "name": "stdout",
     "output_type": "stream",
     "text": [
      "1.0010032653808594\n"
     ]
    }
   ],
   "source": [
    "time0=time.time()\n",
    "time.sleep(1)\n",
    "time1=time.time()\n",
    "print(time1-time0)"
   ]
  }
 ],
 "metadata": {
  "kernelspec": {
   "display_name": "Python 3",
   "language": "python",
   "name": "python3"
  },
  "language_info": {
   "codemirror_mode": {
    "name": "ipython",
    "version": 3
   },
   "file_extension": ".py",
   "mimetype": "text/x-python",
   "name": "python",
   "nbconvert_exporter": "python",
   "pygments_lexer": "ipython3",
   "version": "3.8.2"
  }
 },
 "nbformat": 4,
 "nbformat_minor": 4
}
