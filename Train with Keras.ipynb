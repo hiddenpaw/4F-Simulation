








{
 "cells": [
  {
   "cell_type": "code",
   "execution_count": 1,
   "id": "respective-coaching",
   "metadata": {},
   "outputs": [],
   "source": [
    "import tensorflow as tf\n",
    "from tensorflow import keras\n",
    "import numpy as np\n",
    "from keras import layers"
   ]




  },
  {
   "cell_type": "code",
   "execution_count": 2,
   "id": "palestinian-vienna",
   "metadata": {},
   "outputs": [],
   "source": [
    "x_train=np.load('train_image.npy').reshape(60000,28,28,1)\n",
    "label_train=np.load('train_label.npy')\n",
    "y_train=np.zeros((60000,10))\n",
    "for i in range(60000):\n",
    "    y_train[i,int(label_train[i])]=1"
   ]
  },
  {
   "cell_type": "code",
   "execution_count": 3,
   "id": "southern-visibility",
   "metadata": {},
   "outputs": [],
   "source": [
    "class optical_layer(keras.layers.Layer):\n",
    "    def __init__(self, units=200):\n",
    "        super(optical_layer, self).__init__()\n",
    "        self.units = units\n",
    "\n",
    "    \n",
    "    def build(self, input_shape):\n",
    "        self.w = self.add_weight(\n",
    "            shape=(input_shape[-2], input_shape[-1]),\n",
    "            initializer=\"random_normal\",\n",
    "            trainable=True,\n",
    "        )\n",
    "\n",
    "\n",
    "    def call(self, inputs):\n",
    "        tmp=tf.complex(inputs,0.0)\n",
    "        tmp_w=tf.complex(self.w,0.0)\n",
    "        output=tf.math.abs(tf.signal.ifft2d(tf.signal.fft2d(tmp)* tmp_w))\n",
    "        return output"
   ]
  },
  {
   "cell_type": "code",
   "execution_count": 5,
   "id": "hearing-mineral",
   "metadata": {},
   "outputs": [
    {
     "name": "stdout",
     "output_type": "stream",
     "text": [
      "Model: \"sequential\"\n",
      "_________________________________________________________________\n",
      "Layer (type)                 Output Shape              Param #   \n",
      "=================================================================\n",
      "optical_layer_1 (optical_lay (None, 28, 28, 1)         28        \n",
      "_________________________________________________________________\n",
      "flatten_1 (Flatten)          (None, 784)               0         \n",
      "_________________________________________________________________\n",
      "dense (Dense)                (None, 10)                7850      \n",
      "=================================================================\n",
      "Total params: 7,878\n",
      "Trainable params: 7,878\n",
      "Non-trainable params: 0\n",
      "_________________________________________________________________\n"
     ]
    }
   ],
   "source": [
    "num_classes = 10\n",
    "input_shape = (28, 28,1)\n",
    "\n",
    "model = keras.Sequential(\n",
    "    [\n",
    "        keras.Input(shape=input_shape),\n",
    "        optical_layer(),\n",
    "        layers.Flatten(),\n",
    "        layers.Dense(num_classes, activation=\"softmax\"),\n",
    "    ]\n",
    ")\n",
    "\n",
    "model.summary()"
   ]
  },
  {
   "cell_type": "code",
   "execution_count": 7,
   "id": "thermal-kentucky",
   "metadata": {},
   "outputs": [
    {
     "name": "stdout",
     "output_type": "stream",
     "text": [
      "Epoch 1/5\n",
      "422/422 [==============================] - 24s 56ms/step - loss: 0.3453 - accuracy: 0.8974 - val_loss: 0.2365 - val_accuracy: 0.9328\n",
      "Epoch 2/5\n",
      "422/422 [==============================] - 24s 56ms/step - loss: 0.2926 - accuracy: 0.9134 - val_loss: 0.2243 - val_accuracy: 0.9342\n",
      "Epoch 3/5\n",
      "422/422 [==============================] - 23s 55ms/step - loss: 0.2652 - accuracy: 0.9218 - val_loss: 0.2057 - val_accuracy: 0.9390\n",
      "Epoch 4/5\n",
      "422/422 [==============================] - 24s 56ms/step - loss: 0.2482 - accuracy: 0.9258 - val_loss: 0.1983 - val_accuracy: 0.9427\n",
      "Epoch 5/5\n",
      "422/422 [==============================] - 26s 62ms/step - loss: 0.2334 - accuracy: 0.9306 - val_loss: 0.1856 - val_accuracy: 0.9452\n"
     ]
    },
    {
     "data": {
      "text/plain": [
       "<tensorflow.python.keras.callbacks.History at 0x2858e32e100>"
      ]
     },
     "execution_count": 7,
     "metadata": {},
     "output_type": "execute_result"
    }
   ],
   "source": [
    "#test tool\n",
    "batch_size = 128\n",
    "epochs = 5\n",
    "\n",
    "model.compile(loss=\"categorical_crossentropy\", optimizer=\"adam\", metrics=[\"accuracy\"])\n",
    "\n",
    "model.fit(x_train, y_train, batch_size=batch_size, epochs=epochs, validation_split=0.1)"
   ]
  },
  {
   "cell_type": "code",
   "execution_count": null,
   "id": "faced-alabama",
   "metadata": {},
   "outputs": [],
   "source": []
  }
 ],
 "metadata": {
  "kernelspec": {
   "display_name": "Python 3",
   "language": "python",
   "name": "python3"
  },
  "language_info": {
   "codemirror_mode": {
    "name": "ipython",
    "version": 3
   },
   "file_extension": ".py",
   "mimetype": "text/x-python",
   "name": "python",
   "nbconvert_exporter": "python",
   "pygments_lexer": "ipython3",
   "version": "3.8.8"
  }
 },
 "nbformat": 4,
 "nbformat_minor": 5
}
