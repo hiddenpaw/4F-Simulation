{
 "cells": [
  {
   "cell_type": "code",
   "execution_count": 2,
   "metadata": {},
   "outputs": [],
   "source": [
    "import threading\n",
    "import time\n",
    "import numpy as np"
   ]
  },
  {
   "cell_type": "code",
   "execution_count": 3,
   "metadata": {},
   "outputs": [],
   "source": [
    "def function(i):\n",
    "    for j in range(1):\n",
    "        k=np.exp(j/100)\n",
    "        print(k)\n",
    "    #print('function run as %i\\n' %i)\n",
    "    return"
   ]
  },
  {
   "cell_type": "code",
   "execution_count": 4,
   "metadata": {},
   "outputs": [
    {
     "name": "stdout",
     "output_type": "stream",
     "text": [
      "1.0\n"
     ]
    }
   ],
   "source": [
    "time1=time.time()\n",
    "\n",
    "threads=[]\n",
    "for i in range(2):\n",
    "    t=threading.Thread\\\n",
    "    (target=function, args=(i,))\n",
    "    threads.append(t)\n",
    "    \n",
    "time2=time.time()\n",
    "\n",
    "t.start()\n",
    "t.join\n",
    "time3=time.time()\n"
   ]
  },
  {
   "cell_type": "code",
   "execution_count": 54,
   "metadata": {},
   "outputs": [],
   "source": [
    "time4=time.time()\n",
    "\n",
    "for i in range(500):\n",
    "    function(i)\n",
    "    \n",
    "time5=time.time()\n"
   ]
  },
  {
   "cell_type": "code",
   "execution_count": 55,
   "metadata": {},
   "outputs": [
    {
     "name": "stdout",
     "output_type": "stream",
     "text": [
      "0.01650094985961914 0.011967897415161133 5.316283941268921\n"
     ]
    }
   ],
   "source": [
    "print(time2-time1, time3-time2, time5-time4)"
   ]
  },
  {
   "cell_type": "code",
   "execution_count": 60,
   "metadata": {},
   "outputs": [
    {
     "name": "stdout",
     "output_type": "stream",
     "text": [
      "StartingThread-1\n",
      "\n",
      "StartingThread-2\n",
      "\n",
      "Thread-1:Fri May 15 13:09:52 2020\n",
      "Thread-1:Fri May 15 13:09:53 2020\n",
      "Thread-2:Fri May 15 13:09:53 2020\n",
      "Thread-1:Fri May 15 13:09:54 2020\n",
      "Thread-1:Fri May 15 13:09:55 2020\n",
      "Thread-2:Fri May 15 13:09:55 2020\n",
      "Thread-1:Fri May 15 13:09:56 2020\n",
      "exitingThread-1\n",
      "\n",
      "Thread-2:Fri May 15 13:09:57 2020\n",
      "Thread-2:Fri May 15 13:09:59 2020\n",
      "Thread-2:Fri May 15 13:10:01 2020\n",
      "exitingThread-2\n",
      "\n",
      "Exiting Main Thread\n"
     ]
    }
   ],
   "source": [
    "exit_Flag=0\n",
    "\n",
    "class myThread(threading.Thread):\n",
    "    def __init__(self, threadID, name, counter):\n",
    "        threading.Thread.__init__(self)\n",
    "        self.threadID=threadID\n",
    "        self.name=name\n",
    "        self.counter=counter\n",
    "    def run(self):\n",
    "        print(\"Starting\" +self.name+'\\n')\n",
    "        print_time(self.name, self.counter, 5)\n",
    "        print('exiting'+self.name+'\\n')\n",
    "        \n",
    "def print_time(threadName, delay, counter):\n",
    "    while counter:\n",
    "        if exit_Flag:\n",
    "            thread.exit()\n",
    "        time.sleep(delay)\n",
    "        print('%s:%s' %(threadName,time.ctime(time.time())))\n",
    "        counter -=1\n",
    "        \n",
    "if __name__ == '__main__':\n",
    "    thread1=myThread(1, 'Thread-1',1)\n",
    "    thread2=myThread(2, 'Thread-2',2)\n",
    "    \n",
    "    thread1.start()\n",
    "    thread2.start()\n",
    "    \n",
    "    thread1.join()\n",
    "    thread2.join()\n",
    "    \n",
    "    print(\"Exiting Main Thread\")"
   ]
  },
  {
   "cell_type": "code",
   "execution_count": 66,
   "metadata": {},
   "outputs": [],
   "source": [
    "import multiprocessing\n",
    "\n",
    "def func(i):\n",
    "    print('multi process')\n",
    "\n",
    "if __name__ =='__main__':\n",
    "    Process_jobs =[]\n",
    "    for i in range(5):\n",
    "        p=multiprocessing.Process(target=func, args=(i,))\n",
    "        Process_jobs.append(p)\n",
    "        p.start()\n",
    "        p.join()"
   ]
  },
  {
   "cell_type": "code",
   "execution_count": 70,
   "metadata": {},
   "outputs": [],
   "source": [
    "MyProcess().start()"
   ]
  },
  {
   "cell_type": "code",
   "execution_count": null,
   "metadata": {},
   "outputs": [],
   "source": []
  },
  {
   "cell_type": "code",
   "execution_count": 67,
   "metadata": {},
   "outputs": [],
   "source": [
    "class MyProcess(multiprocessing.Process):\n",
    "    def run(self):\n",
    "        print('called run method in %s' %self.name)\n",
    "        return\n",
    "\n",
    "if __name__ =='__main__':\n",
    "    Process_jobs =[]\n",
    "    for i in range(5):\n",
    "        p=MyProcess()\n",
    "        Process_jobs.append(p)\n",
    "        p.start()\n",
    "        p.join()"
   ]
  }
 ],
 "metadata": {
  "kernelspec": {
   "display_name": "Python 3",
   "language": "python",
   "name": "python3"
  },
  "language_info": {
   "codemirror_mode": {
    "name": "ipython",
    "version": 3
   },
   "file_extension": ".py",
   "mimetype": "text/x-python",
   "name": "python",
   "nbconvert_exporter": "python",
   "pygments_lexer": "ipython3",
   "version": "3.8.2"
  }
 },
 "nbformat": 4,
 "nbformat_minor": 4
}
