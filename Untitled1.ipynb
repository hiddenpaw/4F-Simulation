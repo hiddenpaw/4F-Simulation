{
 "cells": [
  {
   "cell_type": "code",
   "execution_count": 2,
   "metadata": {},
   "outputs": [],
   "source": [
    "import numpy as np\n",
    "import imageio\n",
    "import matplotlib.pyplot as plt\n",
    "from numba import jit\n",
    "from PIL import Image"
   ]
  },
  {
   "cell_type": "code",
   "execution_count": 3,
   "metadata": {},
   "outputs": [],
   "source": [
    "N=500\n",
    "\n",
    "image=imageio.imread('4.png')[359:471,359:471]\n",
    "image1=Image.fromarray(image)\n",
    "image1=image1.resize((N,N),resample=0)\n",
    "image3=np.array(image1)\n",
    "\n",
    "for i in range(N):\n",
    "    for j in range(N):\n",
    "        if image3[i,j]>50:\n",
    "            image3[i,j]=1\n",
    "        else:\n",
    "            image3[i,j]=0"
   ]
  },
  {
   "cell_type": "code",
   "execution_count": null,
   "metadata": {},
   "outputs": [],
   "source": [
    "@jit(nopython=True)\n",
    "def ray_tracing(image,distance):\n",
    "    size=image.shape\n",
    "    output=np.zeros((size[0],size[1]))*1j\n",
    "    standard_mat=np.zeros((size[0],size[1],2))\n",
    "    for i in range(size[0]):\n",
    "        for j in range(size[1]):\n",
    "            standard_mat[i,j]=[i,j]\n",
    "    \n",
    "    for i in range(size[0]):\n",
    "        for j in range(size[1]):\n",
    "            mat=standard_mat*1\n",
    "            cal=mat-[i,j]\n",
    "            cal[:,:,0]**2+cal[:,:,1]**2+distance**2"
   ]
  }
 ],
 "metadata": {
  "kernelspec": {
   "display_name": "Python 3",
   "language": "python",
   "name": "python3"
  },
  "language_info": {
   "codemirror_mode": {
    "name": "ipython",
    "version": 3
   },
   "file_extension": ".py",
   "mimetype": "text/x-python",
   "name": "python",
   "nbconvert_exporter": "python",
   "pygments_lexer": "ipython3",
   "version": "3.8.2"
  }
 },
 "nbformat": 4,
 "nbformat_minor": 4
}
